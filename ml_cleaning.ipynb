{
 "cells": [
  {
   "cell_type": "code",
   "execution_count": 6,
   "id": "668abf38",
   "metadata": {},
   "outputs": [],
   "source": [
    "import pandas as pd\n",
    "import numpy as np"
   ]
  },
  {
   "cell_type": "code",
   "execution_count": 7,
   "id": "7c4e551d",
   "metadata": {},
   "outputs": [],
   "source": [
    "df=pd.read_csv(\"data/cleaned_data1.csv\")"
   ]
  },
  {
   "cell_type": "code",
   "execution_count": 8,
   "id": "dd0412b6",
   "metadata": {},
   "outputs": [
    {
     "name": "stderr",
     "output_type": "stream",
     "text": [
      "C:\\Users\\preet\\AppData\\Local\\Temp\\ipykernel_3704\\1417773335.py:9: FutureWarning: Downcasting object dtype arrays on .fillna, .ffill, .bfill is deprecated and will change in a future version. Call result.infer_objects(copy=False) instead. To opt-in to the future behavior, set `pd.set_option('future.no_silent_downcasting', True)`\n",
      "  df[\"hasTerrace\"]=df[\"hasTerrace\"].fillna(False).astype(bool)\n"
     ]
    }
   ],
   "source": [
    "df=pd.read_csv(\"data/cleaned_data1.csv\")\n",
    "\n",
    "# fill bathroom nulls with toilet counts\n",
    "df=df.rename(columns={\"bathroomCount\":\"toilet_and_bath\"})\n",
    "df[\"toilet_and_bath\"]=df[\"toilet_and_bath\"].fillna(df[\"toiletCount\"])\n",
    "df[\"toilet_and_bath\"]=df[\"toilet_and_bath\"].fillna(1)\n",
    "df.drop(columns=[\"id\",\"toiletCount\",\"buildingConstructionYear\", \"floodZoneType\", \"kitchenType\",\"landSurface\",\"hasLivingRoom\"], inplace= True)\n",
    "# fill nulls of has terrace with false\n",
    "df[\"hasTerrace\"]=df[\"hasTerrace\"].fillna(False).astype(bool)\n",
    "# drop rows with more than 3(2260)\n",
    "df=df[~(df.isnull().sum(axis=1)>3)]\n",
    "# drop nulls in habitable surface AND bedroom count\n",
    "df=df[~(df[\"bedroomCount\"].isnull())]\n",
    "df=df[~(df[\"habitableSurface\"].isnull())]\n",
    "\n",
    "# filla nulls in totalparking count with 0\n",
    "df[\"totalParkingCount\"]=df[\"totalParkingCount\"].fillna(0)\n",
    "\n",
    "# drop the rows where all three are null(buildingcondition, fascedcount, epcscore)\n",
    "df=df[~(df.isnull().sum(axis=1)>=2)]\n"
   ]
  },
  {
   "cell_type": "code",
   "execution_count": 9,
   "id": "eb233902",
   "metadata": {},
   "outputs": [
    {
     "data": {
      "text/plain": [
       "((56005, 14),\n",
       " type                     0\n",
       " subtype                  0\n",
       " bedroomCount             0\n",
       " toilet_and_bath          0\n",
       " province                 0\n",
       " locality                 0\n",
       " postCode                 0\n",
       " habitableSurface         0\n",
       " buildingCondition     7780\n",
       " facedeCount          11367\n",
       " hasTerrace               0\n",
       " epcScore              3247\n",
       " price                    0\n",
       " totalParkingCount        0\n",
       " dtype: int64)"
      ]
     },
     "execution_count": 9,
     "metadata": {},
     "output_type": "execute_result"
    }
   ],
   "source": [
    "df.shape,df.isnull().sum()"
   ]
  },
  {
   "cell_type": "code",
   "execution_count": 14,
   "id": "b68e74ef",
   "metadata": {},
   "outputs": [
    {
     "data": {
      "text/plain": [
       "((33611, 14),\n",
       " type                 0\n",
       " subtype              0\n",
       " bedroomCount         0\n",
       " toilet_and_bath      0\n",
       " province             0\n",
       " locality             0\n",
       " postCode             0\n",
       " habitableSurface     0\n",
       " buildingCondition    0\n",
       " facedeCount          0\n",
       " hasTerrace           0\n",
       " epcScore             0\n",
       " price                0\n",
       " totalParkingCount    0\n",
       " dtype: int64)"
      ]
     },
     "execution_count": 14,
     "metadata": {},
     "output_type": "execute_result"
    }
   ],
   "source": [
    "df = df.replace('nan', np.nan)\n",
    "df = df.replace('NaN', np.nan)\n",
    "x=df.dropna()\n",
    "x.shape, x.isna().sum()"
   ]
  },
  {
   "cell_type": "code",
   "execution_count": 15,
   "id": "ef033bde",
   "metadata": {},
   "outputs": [],
   "source": [
    "#sns.scatterplot(data=df, x=\"subtype\", y=\")"
   ]
  },
  {
   "cell_type": "code",
   "execution_count": 10,
   "id": "28d7ea57",
   "metadata": {},
   "outputs": [
    {
     "data": {
      "text/plain": [
       "Index(['type', 'subtype', 'bedroomCount', 'toilet_and_bath', 'province',\n",
       "       'locality', 'postCode', 'habitableSurface', 'buildingCondition',\n",
       "       'facedeCount', 'hasTerrace', 'epcScore', 'price', 'totalParkingCount'],\n",
       "      dtype='object')"
      ]
     },
     "execution_count": 10,
     "metadata": {},
     "output_type": "execute_result"
    }
   ],
   "source": [
    "df.to_csv(\"data/nonull_cleaned_data.csv\", index=False)\n",
    "df.shape\n",
    "df.columns"
   ]
  },
  {
   "cell_type": "code",
   "execution_count": 17,
   "id": "9b847591",
   "metadata": {},
   "outputs": [
    {
     "name": "stdout",
     "output_type": "stream",
     "text": [
      "(56005, 14)\n"
     ]
    }
   ],
   "source": [
    "df.to_csv(\"data/cleaned_data_before_imputation.csv\", index=False)\n",
    "print(df.shape)\n",
    "# impute the null in facede count with 1\n",
    "df[\"facedeCount\"]=df[\"facedeCount\"].fillna(1)\n",
    "df[\"buildingCondition\"]=df[\"buildingCondition\"].fillna(\"missing\")\n",
    "df[\"epcScore\"]=df[\"epcScore\"].fillna(\"missing\")"
   ]
  },
  {
   "cell_type": "code",
   "execution_count": 19,
   "id": "59a44006",
   "metadata": {},
   "outputs": [
    {
     "data": {
      "text/plain": [
       "(56005, 14)"
      ]
     },
     "execution_count": 19,
     "metadata": {},
     "output_type": "execute_result"
    }
   ],
   "source": [
    "df.to_csv(\"data/cleaned_data_after_imputation.csv\", index=False)\n",
    "df.shape"
   ]
  }
 ],
 "metadata": {
  "kernelspec": {
   "display_name": "base",
   "language": "python",
   "name": "python3"
  },
  "language_info": {
   "codemirror_mode": {
    "name": "ipython",
    "version": 3
   },
   "file_extension": ".py",
   "mimetype": "text/x-python",
   "name": "python",
   "nbconvert_exporter": "python",
   "pygments_lexer": "ipython3",
   "version": "3.11.7"
  }
 },
 "nbformat": 4,
 "nbformat_minor": 5
}
